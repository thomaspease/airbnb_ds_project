{
 "cells": [
  {
   "cell_type": "code",
   "execution_count": null,
   "metadata": {},
   "outputs": [],
   "source": [
    "import torch\n",
    "from utils.pytorch_dataset import data_loaders\n",
    "import yaml\n",
    "import optuna\n",
    "from torch.utils.tensorboard import SummaryWriter\n"
   ]
  },
  {
   "cell_type": "code",
   "execution_count": null,
   "metadata": {},
   "outputs": [],
   "source": [
    "IN_FEATURES = 8\n",
    "CLASSES = 9\n",
    "EPOCHS = 100"
   ]
  },
  {
   "attachments": {},
   "cell_type": "markdown",
   "metadata": {},
   "source": [
    "The code below uses Optuna to tune the hyperparameters of a neural network classifier"
   ]
  },
  {
   "cell_type": "code",
   "execution_count": null,
   "metadata": {},
   "outputs": [],
   "source": [
    "\n",
    "def define_model(trial):\n",
    "  n_layers = trial.suggest_int(\"n_layers\", 1, 3)\n",
    "  layers = []\n",
    "\n",
    "  in_features = IN_FEATURES\n",
    "\n",
    "  for i in range(n_layers):\n",
    "    out_features = trial.suggest_int(f\"n_units_l{i}\", 2, 18)\n",
    "    layers.append(torch.nn.Linear(in_features, out_features))\n",
    "    layers.append(torch.nn.ReLU())\n",
    "    p = trial.suggest_float(f\"dropout_l{i}\", 0.2, 0.8)\n",
    "    layers.append(torch.nn.Dropout(p))\n",
    "\n",
    "    in_features = out_features\n",
    "  \n",
    "  layers.append(torch.nn.Linear(in_features, CLASSES))\n",
    "  layers.append(torch.nn.LogSoftmax(dim=1))\n",
    "\n",
    "  return torch.nn.Sequential(*layers)\n",
    "\n",
    "def train(trial):\n",
    "  model = define_model(trial)\n",
    "\n",
    "  optimizer_name = trial.suggest_categorical(\"optimizer\", ['Adam', 'RMSprop', 'SGD'])\n",
    "  lr = trial.suggest_float('lr', 1e-5, 1e-1, log=True)\n",
    "  # The first half finds the relevant class of optimizer by using the names as passed in above, and then you pass in the parameters and the learning rate into that model\n",
    "  optimizer = getattr(torch.optim, optimizer_name)(model.parameters(), lr=lr)\n",
    "\n",
    "  for epoch in range(EPOCHS):\n",
    "    # Training of the model\n",
    "    model.train()\n",
    "    \n",
    "    for batch_idx, (data, target) in enumerate(data_loaders['train']):\n",
    "      # Option to limit data for faster epochs\n",
    "      # if batch_idx * BATCHSIZE >= N_TRAIN_EXAMPLES:\n",
    "      #   break\n",
    "\n",
    "      # Option to send to device\n",
    "      # data, target = data.view(data.size(0), -1).to(DEVICE), target.to(DEVICE)\n",
    "\n",
    "      optimizer.zero_grad()\n",
    "      output = model(data)\n",
    "      loss = torch.nn.functional.nll_loss(output, target)\n",
    "      loss.backward()\n",
    "      optimizer.step()\n",
    "    \n",
    "    # Validation\n",
    "    model.eval()\n",
    "    correct = 0\n",
    "\n",
    "    with torch.no_grad():\n",
    "      for batch_idx, (data, target) in enumerate(data_loaders['val']):\n",
    "        output = model(data)\n",
    "        pred = output.argmax(dim=1, keepdim=True)\n",
    "        correct += pred.eq(target.view_as(pred)).sum().item()\n",
    "    \n",
    "    accuracy = correct / len(data_loaders['val'].dataset)\n",
    "\n",
    "    trial.report(accuracy, epoch)\n",
    "\n",
    "    if trial.should_prune():\n",
    "      raise optuna.exceptions.TrialPruned()\n",
    "\n",
    "  return accuracy"
   ]
  },
  {
   "cell_type": "code",
   "execution_count": null,
   "metadata": {},
   "outputs": [],
   "source": [
    "study = optuna.create_study(direction='maximize')\n",
    "study.optimize(train, n_trials=100, timeout=600)\n",
    "\n",
    "pruned_trials = study.get_trials(deepcopy=False, states=[optuna.trial.TrialState.PRUNED])\n",
    "complete_trials = study.get_trials(deepcopy=False, states=[optuna.trial.TrialState.COMPLETE])\n",
    "\n",
    "print(\"Study statistics: \")\n",
    "print(\"  Number of finished trials: \", len(study.trials))\n",
    "print(\"  Number of pruned trials: \", len(pruned_trials))\n",
    "print(\"  Number of complete trials: \", len(complete_trials))\n",
    "\n",
    "print(\"Best trial:\")\n",
    "trial = study.best_trial\n",
    "\n",
    "print(\"  Value: \", trial.value)\n",
    "\n",
    "print(\"  Params: \")\n",
    "for key, value in trial.params.items():\n",
    "  print(\"    {}: {}\".format(key, value))"
   ]
  }
 ],
 "metadata": {
  "kernelspec": {
   "display_name": "Python 3",
   "language": "python",
   "name": "python3"
  },
  "language_info": {
   "name": "python",
   "version": "3.8.9"
  },
  "orig_nbformat": 4,
  "vscode": {
   "interpreter": {
    "hash": "31f2aee4e71d21fbe5cf8b01ff0e069b9275f58929596ceb00d14d90e3e16cd6"
   }
  }
 },
 "nbformat": 4,
 "nbformat_minor": 2
}

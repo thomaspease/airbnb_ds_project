{
 "cells": [
  {
   "cell_type": "code",
   "execution_count": 5,
   "metadata": {},
   "outputs": [],
   "source": [
    "import sys\n",
    "sys.path.append('/Users/tompease/Documents/Coding/airbnb')\n",
    "from sklearn.ensemble import RandomForestRegressor\n",
    "from utils.tune_hyperparameters import RegressionTuneModel\n",
    "from utils.data_loader import AirbnbLoader\n",
    "from scipy.stats import randint"
   ]
  },
  {
   "cell_type": "code",
   "execution_count": 6,
   "metadata": {},
   "outputs": [],
   "source": [
    "loader = AirbnbLoader()\n",
    "X, y = loader.load_airbnb('Price_Night', normalized=True)\n",
    "\n",
    "random_forest_param_dist = {\n",
    "  'bootstrap': [True, False],\n",
    "  'max_depth': [10, 20, 30, 40, 50, 60, 70, 80, 90, 100, None],\n",
    "  'min_samples_leaf': randint(1,20),\n",
    "  'min_samples_split': randint(1,10),\n",
    "  'n_estimators': randint(1,1000)\n",
    " }\n",
    "\n",
    "tuned_random_forest = RegressionTuneModel(X, y, RandomForestRegressor, param_grid=random_forest_param_dist, method='random', n_iter=500)"
   ]
  },
  {
   "cell_type": "code",
   "execution_count": 7,
   "metadata": {},
   "outputs": [
    {
     "data": {
      "text/plain": [
       "{'params': {'bootstrap': True,\n",
       "  'max_depth': 60,\n",
       "  'min_samples_leaf': 14,\n",
       "  'min_samples_split': 4,\n",
       "  'n_estimators': 442},\n",
       " 'train': -0.008422434580835006,\n",
       " 'test': -0.00813911623597403}"
      ]
     },
     "execution_count": 7,
     "metadata": {},
     "output_type": "execute_result"
    }
   ],
   "source": [
    "tuned_random_forest.tuned_for_mse_performance_"
   ]
  },
  {
   "cell_type": "code",
   "execution_count": 8,
   "metadata": {},
   "outputs": [],
   "source": [
    "tuned_random_forest.save_model_and_results()"
   ]
  }
 ],
 "metadata": {
  "kernelspec": {
   "display_name": "ds-env",
   "language": "python",
   "name": "python3"
  },
  "language_info": {
   "codemirror_mode": {
    "name": "ipython",
    "version": 3
   },
   "file_extension": ".py",
   "mimetype": "text/x-python",
   "name": "python",
   "nbconvert_exporter": "python",
   "pygments_lexer": "ipython3",
   "version": "3.10.8 (main, Nov 24 2022, 08:08:27) [Clang 14.0.6 ]"
  },
  "orig_nbformat": 4,
  "vscode": {
   "interpreter": {
    "hash": "528eaf8525cf343a920c15b29059300b3605b13ef357b40927062a8441ce532e"
   }
  }
 },
 "nbformat": 4,
 "nbformat_minor": 2
}

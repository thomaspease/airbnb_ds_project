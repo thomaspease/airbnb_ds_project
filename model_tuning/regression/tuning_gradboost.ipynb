{
 "cells": [
  {
   "cell_type": "code",
   "execution_count": 1,
   "metadata": {},
   "outputs": [],
   "source": [
    "import sys\n",
    "sys.path.append('/Users/tompease/Documents/Coding/airbnb')\n",
    "from sklearn.ensemble import GradientBoostingRegressor\n",
    "from utils.tune_hyperparameters import TuneModel\n",
    "from utils.data_loader import AirbnbLoader\n",
    "from scipy.stats import randint"
   ]
  },
  {
   "cell_type": "code",
   "execution_count": 4,
   "metadata": {},
   "outputs": [],
   "source": [
    "loader = AirbnbLoader()\n",
    "X, y = loader.load_airbnb('Price_Night', normalized=True)\n",
    "\n",
    "grad_boost_param_grid = {\n",
    "  'loss':['squared_error', 'absolute_error', 'huber', 'quantile'],\n",
    "  'min_samples_split': randint(1,10),\n",
    "  'min_samples_leaf': randint(1,20),\n",
    "  'max_depth': randint(1,4)\n",
    "  } \n",
    "\n",
    "tuned_random_forest = TuneModel(X, y, GradientBoostingRegressor, param_grid=grad_boost_param_grid, method='random', n_iter=500)"
   ]
  },
  {
   "cell_type": "code",
   "execution_count": 8,
   "metadata": {},
   "outputs": [
    {
     "data": {
      "text/plain": [
       "{'params': {'alpha': 0.9,\n",
       "  'ccp_alpha': 0.0,\n",
       "  'criterion': 'friedman_mse',\n",
       "  'init': None,\n",
       "  'learning_rate': 0.1,\n",
       "  'loss': 'squared_error',\n",
       "  'max_depth': 3,\n",
       "  'max_features': None,\n",
       "  'max_leaf_nodes': None,\n",
       "  'min_impurity_decrease': 0.0,\n",
       "  'min_samples_leaf': 1,\n",
       "  'min_samples_split': 2,\n",
       "  'min_weight_fraction_leaf': 0.0,\n",
       "  'n_estimators': 100,\n",
       "  'n_iter_no_change': None,\n",
       "  'random_state': None,\n",
       "  'subsample': 1.0,\n",
       "  'tol': 0.0001,\n",
       "  'validation_fraction': 0.1,\n",
       "  'verbose': 0,\n",
       "  'warm_start': False},\n",
       " 'train mse': -0.0035515882550850703,\n",
       " 'test mse': -0.011411460889026361,\n",
       " 'train r2': 0.7261780126764701,\n",
       " 'test r2': 0.11632383212255024}"
      ]
     },
     "execution_count": 8,
     "metadata": {},
     "output_type": "execute_result"
    }
   ],
   "source": [
    "tuned_random_forest.default_model_performance_"
   ]
  },
  {
   "cell_type": "code",
   "execution_count": 6,
   "metadata": {},
   "outputs": [
    {
     "data": {
      "text/plain": [
       "{'params': {'loss': 'huber',\n",
       "  'max_depth': 3,\n",
       "  'min_samples_leaf': 17,\n",
       "  'min_samples_split': 2},\n",
       " 'train': 0.4914105982374359,\n",
       " 'test': 0.32168569515386}"
      ]
     },
     "execution_count": 6,
     "metadata": {},
     "output_type": "execute_result"
    }
   ],
   "source": [
    "tuned_random_forest.tuned_for_mse_performance_\n",
    "tuned_random_forest.tuned_for_r2_performance_"
   ]
  },
  {
   "cell_type": "code",
   "execution_count": 7,
   "metadata": {},
   "outputs": [],
   "source": [
    "tuned_random_forest.save_model_and_results()"
   ]
  }
 ],
 "metadata": {
  "kernelspec": {
   "display_name": "Python 3.10.8 ('ds-env')",
   "language": "python",
   "name": "python3"
  },
  "language_info": {
   "codemirror_mode": {
    "name": "ipython",
    "version": 3
   },
   "file_extension": ".py",
   "mimetype": "text/x-python",
   "name": "python",
   "nbconvert_exporter": "python",
   "pygments_lexer": "ipython3",
   "version": "3.10.8 (main, Nov 24 2022, 08:08:27) [Clang 14.0.6 ]"
  },
  "orig_nbformat": 4,
  "vscode": {
   "interpreter": {
    "hash": "528eaf8525cf343a920c15b29059300b3605b13ef357b40927062a8441ce532e"
   }
  }
 },
 "nbformat": 4,
 "nbformat_minor": 2
}

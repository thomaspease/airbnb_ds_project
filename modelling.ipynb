{
 "cells": [
  {
   "cell_type": "code",
   "execution_count": 80,
   "metadata": {},
   "outputs": [],
   "source": [
    "from sklearn.linear_model import SGDRegressor\n",
    "from sklearn.pipeline import Pipeline\n",
    "from sklearn.preprocessing import StandardScaler, MinMaxScaler\n",
    "from sklearn.model_selection import train_test_split, ParameterGrid\n",
    "from sklearn.metrics import mean_squared_error, r2_score\n",
    "from sklearn.model_selection import GridSearchCV\n",
    "from tabular_data import AirbnbLoader\n",
    "import numpy as np  \n",
    "import pandas as pd\n",
    "\n",
    "def split_data(data):\n",
    "    X, y = data\n",
    "    X_train, X_test, y_train, y_test  = train_test_split(X, y, test_size=0.25, random_state=50)\n",
    "    return X_train, X_test, y_train, y_test\n",
    "\n",
    "class Model():\n",
    "  def __init__(self, Model) -> None:\n",
    "    self.model = Model()\n",
    "    self.pipeline = Pipeline([('scaler',  StandardScaler()), ('model', Model(random_state=43))])\n",
    "  \n",
    "  def custom_tune_regression_model_hyperparameters(self, X, y):\n",
    "    loss=['squared_error', 'huber', 'epsilon_insensitive', 'squared_epsilon_insensitive']\n",
    "    penalty = ['l1', 'l2', 'elasticnet']\n",
    "    alpha = [1e-1, 1e-2, 1e-3, 1e-4, 1e-5]\n",
    "    shuffle = [True, False]\n",
    "    learning_rate = ['constant', 'optimal', 'invscaling', 'adaptive']\n",
    "\n",
    "    param_grid = dict(model__loss=loss, model__penalty=penalty, model__alpha=alpha, model__shuffle=shuffle, model__learning_rate=learning_rate)\n",
    "\n",
    "    best_score = 0\n",
    "\n",
    "    grid_model = self.pipeline\n",
    "\n",
    "    for g in ParameterGrid(param_grid):\n",
    "        grid_model.set_params(**g)\n",
    "        grid_model.fit(X,y)\n",
    "        cur_score = grid_model.score(X, y)\n",
    "        # save if best\n",
    "        if cur_score > best_score:\n",
    "            best_score = cur_score\n",
    "            best_grid = g\n",
    "\n",
    "    grid_model.set_params(**best_grid)\n",
    "    grid_model.fit(X, y)\n",
    "\n",
    "    return grid_model\n",
    "\n",
    "  def fit_default_model(self, X, y):\n",
    "    fitted_model = self.pipeline.fit(X,y)\n",
    "    return fitted_model\n",
    "\n",
    "\n",
    "\n",
    "def evaluate_performance(name, model, X_test, y_test, X_train, y_train):\n",
    "  test_predictions = model.predict(X_test)\n",
    "  train_predictions = model.predict(X_train)\n",
    "  \n",
    "  print(f'Performance of model: {name}')\n",
    "  print('--------------')\n",
    "  print('TRAINING DATA:')\n",
    "  print(f'R2 score: {r2_score(y_train, train_predictions)}')\n",
    "  print(f'MSE: {mean_squared_error(y_train, train_predictions)}')\n",
    "  print('TEST DATA:')\n",
    "  print(f'R2 score: {r2_score(y_test, test_predictions)}')\n",
    "  print(f'MSE: {mean_squared_error(y_test, test_predictions)}')\n",
    "  print(' ')\n",
    "\n"
   ]
  },
  {
   "cell_type": "code",
   "execution_count": 81,
   "metadata": {},
   "outputs": [
    {
     "name": "stdout",
     "output_type": "stream",
     "text": [
      "Performance of model: Tuned model\n",
      "--------------\n",
      "TRAINING DATA:\n",
      "R2 score: 0.5155862483105458\n",
      "MSE: 0.006398925496526548\n",
      "TEST DATA:\n",
      "R2 score: 0.46999079691415746\n",
      "MSE: 0.007102993036144613\n",
      " \n",
      "Performance of model: Default model\n",
      "--------------\n",
      "TRAINING DATA:\n",
      "R2 score: 0.5155862483105458\n",
      "MSE: 0.006398925496526548\n",
      "TEST DATA:\n",
      "R2 score: 0.46999079691415746\n",
      "MSE: 0.007102993036144613\n",
      " \n"
     ]
    }
   ],
   "source": [
    "\n",
    "\n",
    "if __name__ == \"__main__\":\n",
    "  # Load data\n",
    "  loader = AirbnbLoader()\n",
    "  init_data = loader.load_airbnb('beds', normalized=True)\n",
    "  X_train, X_test, y_train, y_test = split_data(init_data)\n",
    "\n",
    "  # Create models\n",
    "  model = Model(SGDRegressor)\n",
    "  tuned_model = model.custom_tune_regression_model_hyperparameters(X=X_train, y=y_train)\n",
    "  default_model = model.fit_default_model(X=X_train, y=y_train)\n",
    "  \n",
    "  # Evaluate performance\n",
    "  evaluate_performance('Tuned model', tuned_model, X_test=X_test, y_test=y_test, X_train=X_train, y_train=y_train)\n",
    "  evaluate_performance('Default model', default_model, X_test=X_test, y_test=y_test, X_train=X_train, y_train=y_train)\n"
   ]
  },
  {
   "cell_type": "code",
   "execution_count": null,
   "metadata": {},
   "outputs": [],
   "source": []
  }
 ],
 "metadata": {
  "kernelspec": {
   "display_name": "Python 3.10.6 ('ml-env')",
   "language": "python",
   "name": "python3"
  },
  "language_info": {
   "codemirror_mode": {
    "name": "ipython",
    "version": 3
   },
   "file_extension": ".py",
   "mimetype": "text/x-python",
   "name": "python",
   "nbconvert_exporter": "python",
   "pygments_lexer": "ipython3",
   "version": "3.10.6"
  },
  "orig_nbformat": 4,
  "vscode": {
   "interpreter": {
    "hash": "32e9af629dc1445b5b617d2b411d0db1657a3112bb3d63faec22ae2d1260d9ec"
   }
  }
 },
 "nbformat": 4,
 "nbformat_minor": 2
}

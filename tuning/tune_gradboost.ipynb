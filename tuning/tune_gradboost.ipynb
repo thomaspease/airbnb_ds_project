{
 "cells": [
  {
   "cell_type": "code",
   "execution_count": 22,
   "metadata": {},
   "outputs": [
    {
     "name": "stdout",
     "output_type": "stream",
     "text": [
      "DEFAULT parameters:  {'alpha': 0.9, 'ccp_alpha': 0.0, 'criterion': 'friedman_mse', 'init': None, 'learning_rate': 0.1, 'loss': 'squared_error', 'max_depth': 3, 'max_features': None, 'max_leaf_nodes': None, 'min_impurity_decrease': 0.0, 'min_samples_leaf': 1, 'min_samples_split': 2, 'min_weight_fraction_leaf': 0.0, 'n_estimators': 100, 'n_iter_no_change': None, 'random_state': None, 'subsample': 1.0, 'tol': 0.0001, 'validation_fraction': 0.1, 'verbose': 0, 'warm_start': False}\n",
      "DEFAULT train r2: 0.7639052470119235\n",
      "DEFAULT test r2: 0.399293247653757\n",
      "DEFAULT train mse: -0.003002110301217997\n",
      "DEFAULT test mse: -0.008684585267604225\n"
     ]
    }
   ],
   "source": [
    "from sklearn.ensemble import GradientBoostingRegressor\n",
    "from sklearn.model_selection import cross_validate\n",
    "from utils.data_loader import AirbnbLoader\n",
    "from sklearn.model_selection import ShuffleSplit, GridSearchCV\n",
    "\n",
    "loader = AirbnbLoader()\n",
    "X, y = loader.load_airbnb('beds', normalized=True)\n",
    "\n",
    "cv_split = ShuffleSplit(n_splits = 5, test_size = .3, train_size = .7, random_state = 42)\n",
    "\n",
    "model = GradientBoostingRegressor()\n",
    "base_results = cross_validate(model, X, y, cv = cv_split, scoring=['r2', 'neg_mean_squared_error'], return_train_score=True)\n",
    "model.fit(X, y) #Just for defaults params\n",
    "\n",
    "print('DEFAULT parameters: ', model.get_params())\n",
    "print(f'DEFAULT train r2: {base_results[\"train_r2\"].mean()}')\n",
    "print(f'DEFAULT test r2: {base_results[\"test_r2\"].mean()}')\n",
    "print(f'DEFAULT train mse: {base_results[\"train_neg_mean_squared_error\"].mean()}')\n",
    "print(f'DEFAULT test mse: {base_results[\"test_neg_mean_squared_error\"].mean()}')"
   ]
  },
  {
   "attachments": {},
   "cell_type": "markdown",
   "metadata": {},
   "source": [
    "Tuning for MSE"
   ]
  },
  {
   "cell_type": "code",
   "execution_count": 23,
   "metadata": {},
   "outputs": [
    {
     "data": {
      "text/html": [
       "<style>#sk-container-id-1 {color: black;background-color: white;}#sk-container-id-1 pre{padding: 0;}#sk-container-id-1 div.sk-toggleable {background-color: white;}#sk-container-id-1 label.sk-toggleable__label {cursor: pointer;display: block;width: 100%;margin-bottom: 0;padding: 0.3em;box-sizing: border-box;text-align: center;}#sk-container-id-1 label.sk-toggleable__label-arrow:before {content: \"▸\";float: left;margin-right: 0.25em;color: #696969;}#sk-container-id-1 label.sk-toggleable__label-arrow:hover:before {color: black;}#sk-container-id-1 div.sk-estimator:hover label.sk-toggleable__label-arrow:before {color: black;}#sk-container-id-1 div.sk-toggleable__content {max-height: 0;max-width: 0;overflow: hidden;text-align: left;background-color: #f0f8ff;}#sk-container-id-1 div.sk-toggleable__content pre {margin: 0.2em;color: black;border-radius: 0.25em;background-color: #f0f8ff;}#sk-container-id-1 input.sk-toggleable__control:checked~div.sk-toggleable__content {max-height: 200px;max-width: 100%;overflow: auto;}#sk-container-id-1 input.sk-toggleable__control:checked~label.sk-toggleable__label-arrow:before {content: \"▾\";}#sk-container-id-1 div.sk-estimator input.sk-toggleable__control:checked~label.sk-toggleable__label {background-color: #d4ebff;}#sk-container-id-1 div.sk-label input.sk-toggleable__control:checked~label.sk-toggleable__label {background-color: #d4ebff;}#sk-container-id-1 input.sk-hidden--visually {border: 0;clip: rect(1px 1px 1px 1px);clip: rect(1px, 1px, 1px, 1px);height: 1px;margin: -1px;overflow: hidden;padding: 0;position: absolute;width: 1px;}#sk-container-id-1 div.sk-estimator {font-family: monospace;background-color: #f0f8ff;border: 1px dotted black;border-radius: 0.25em;box-sizing: border-box;margin-bottom: 0.5em;}#sk-container-id-1 div.sk-estimator:hover {background-color: #d4ebff;}#sk-container-id-1 div.sk-parallel-item::after {content: \"\";width: 100%;border-bottom: 1px solid gray;flex-grow: 1;}#sk-container-id-1 div.sk-label:hover label.sk-toggleable__label {background-color: #d4ebff;}#sk-container-id-1 div.sk-serial::before {content: \"\";position: absolute;border-left: 1px solid gray;box-sizing: border-box;top: 0;bottom: 0;left: 50%;z-index: 0;}#sk-container-id-1 div.sk-serial {display: flex;flex-direction: column;align-items: center;background-color: white;padding-right: 0.2em;padding-left: 0.2em;position: relative;}#sk-container-id-1 div.sk-item {position: relative;z-index: 1;}#sk-container-id-1 div.sk-parallel {display: flex;align-items: stretch;justify-content: center;background-color: white;position: relative;}#sk-container-id-1 div.sk-item::before, #sk-container-id-1 div.sk-parallel-item::before {content: \"\";position: absolute;border-left: 1px solid gray;box-sizing: border-box;top: 0;bottom: 0;left: 50%;z-index: -1;}#sk-container-id-1 div.sk-parallel-item {display: flex;flex-direction: column;z-index: 1;position: relative;background-color: white;}#sk-container-id-1 div.sk-parallel-item:first-child::after {align-self: flex-end;width: 50%;}#sk-container-id-1 div.sk-parallel-item:last-child::after {align-self: flex-start;width: 50%;}#sk-container-id-1 div.sk-parallel-item:only-child::after {width: 0;}#sk-container-id-1 div.sk-dashed-wrapped {border: 1px dashed gray;margin: 0 0.4em 0.5em 0.4em;box-sizing: border-box;padding-bottom: 0.4em;background-color: white;}#sk-container-id-1 div.sk-label label {font-family: monospace;font-weight: bold;display: inline-block;line-height: 1.2em;}#sk-container-id-1 div.sk-label-container {text-align: center;}#sk-container-id-1 div.sk-container {/* jupyter's `normalize.less` sets `[hidden] { display: none; }` but bootstrap.min.css set `[hidden] { display: none !important; }` so we also need the `!important` here to be able to override the default hidden behavior on the sphinx rendered scikit-learn.org. See: https://github.com/scikit-learn/scikit-learn/issues/21755 */display: inline-block !important;position: relative;}#sk-container-id-1 div.sk-text-repr-fallback {display: none;}</style><div id=\"sk-container-id-1\" class=\"sk-top-container\"><div class=\"sk-text-repr-fallback\"><pre>GridSearchCV(cv=ShuffleSplit(n_splits=5, random_state=42, test_size=0.3, train_size=0.7),\n",
       "             estimator=GradientBoostingRegressor(),\n",
       "             param_grid={&#x27;loss&#x27;: [&#x27;squared_error&#x27;, &#x27;absolute_error&#x27;, &#x27;huber&#x27;,\n",
       "                                  &#x27;quantile&#x27;],\n",
       "                         &#x27;max_depth&#x27;: [1, 2, 3],\n",
       "                         &#x27;min_samples_leaf&#x27;: [3, 5, 10, 20],\n",
       "                         &#x27;min_samples_split&#x27;: [2, 3, 4, 5]},\n",
       "             return_train_score=True, scoring=&#x27;neg_mean_squared_error&#x27;)</pre><b>In a Jupyter environment, please rerun this cell to show the HTML representation or trust the notebook. <br />On GitHub, the HTML representation is unable to render, please try loading this page with nbviewer.org.</b></div><div class=\"sk-container\" hidden><div class=\"sk-item sk-dashed-wrapped\"><div class=\"sk-label-container\"><div class=\"sk-label sk-toggleable\"><input class=\"sk-toggleable__control sk-hidden--visually\" id=\"sk-estimator-id-1\" type=\"checkbox\" ><label for=\"sk-estimator-id-1\" class=\"sk-toggleable__label sk-toggleable__label-arrow\">GridSearchCV</label><div class=\"sk-toggleable__content\"><pre>GridSearchCV(cv=ShuffleSplit(n_splits=5, random_state=42, test_size=0.3, train_size=0.7),\n",
       "             estimator=GradientBoostingRegressor(),\n",
       "             param_grid={&#x27;loss&#x27;: [&#x27;squared_error&#x27;, &#x27;absolute_error&#x27;, &#x27;huber&#x27;,\n",
       "                                  &#x27;quantile&#x27;],\n",
       "                         &#x27;max_depth&#x27;: [1, 2, 3],\n",
       "                         &#x27;min_samples_leaf&#x27;: [3, 5, 10, 20],\n",
       "                         &#x27;min_samples_split&#x27;: [2, 3, 4, 5]},\n",
       "             return_train_score=True, scoring=&#x27;neg_mean_squared_error&#x27;)</pre></div></div></div><div class=\"sk-parallel\"><div class=\"sk-parallel-item\"><div class=\"sk-item\"><div class=\"sk-label-container\"><div class=\"sk-label sk-toggleable\"><input class=\"sk-toggleable__control sk-hidden--visually\" id=\"sk-estimator-id-2\" type=\"checkbox\" ><label for=\"sk-estimator-id-2\" class=\"sk-toggleable__label sk-toggleable__label-arrow\">estimator: GradientBoostingRegressor</label><div class=\"sk-toggleable__content\"><pre>GradientBoostingRegressor()</pre></div></div></div><div class=\"sk-serial\"><div class=\"sk-item\"><div class=\"sk-estimator sk-toggleable\"><input class=\"sk-toggleable__control sk-hidden--visually\" id=\"sk-estimator-id-3\" type=\"checkbox\" ><label for=\"sk-estimator-id-3\" class=\"sk-toggleable__label sk-toggleable__label-arrow\">GradientBoostingRegressor</label><div class=\"sk-toggleable__content\"><pre>GradientBoostingRegressor()</pre></div></div></div></div></div></div></div></div></div></div>"
      ],
      "text/plain": [
       "GridSearchCV(cv=ShuffleSplit(n_splits=5, random_state=42, test_size=0.3, train_size=0.7),\n",
       "             estimator=GradientBoostingRegressor(),\n",
       "             param_grid={'loss': ['squared_error', 'absolute_error', 'huber',\n",
       "                                  'quantile'],\n",
       "                         'max_depth': [1, 2, 3],\n",
       "                         'min_samples_leaf': [3, 5, 10, 20],\n",
       "                         'min_samples_split': [2, 3, 4, 5]},\n",
       "             return_train_score=True, scoring='neg_mean_squared_error')"
      ]
     },
     "execution_count": 23,
     "metadata": {},
     "output_type": "execute_result"
    }
   ],
   "source": [
    "param_grid = {\n",
    "  'loss':['squared_error', 'absolute_error', 'huber', 'quantile'],\n",
    "  'min_samples_split': [2,3,4,5],\n",
    "  'min_samples_leaf': [3, 5, 10, 20],\n",
    "  'max_depth': [1, 2, 3]\n",
    "  } \n",
    "\n",
    "tuned_model = GridSearchCV(GradientBoostingRegressor(), param_grid=param_grid, scoring='neg_mean_squared_error', cv=cv_split, return_train_score=True)\n",
    "tuned_model.fit(X, y)\n"
   ]
  },
  {
   "cell_type": "code",
   "execution_count": 24,
   "metadata": {},
   "outputs": [
    {
     "name": "stdout",
     "output_type": "stream",
     "text": [
      "TUNED params:  {'loss': 'squared_error', 'max_depth': 1, 'min_samples_leaf': 10, 'min_samples_split': 2}\n",
      "TUNED train mse: -0.006109360363316554\n",
      "TUNED test mse: -0.0073379669771767835\n"
     ]
    }
   ],
   "source": [
    "\n",
    "print('TUNED params: ', tuned_model.best_params_)\n",
    "print(f'TUNED train mse: {tuned_model.cv_results_[\"mean_train_score\"][tuned_model.best_index_]}')\n",
    "print(f'TUNED test mse: {tuned_model.cv_results_[\"mean_test_score\"][tuned_model.best_index_]}')"
   ]
  },
  {
   "cell_type": "code",
   "execution_count": 25,
   "metadata": {},
   "outputs": [
    {
     "name": "stdout",
     "output_type": "stream",
     "text": [
      "DEFAULT train mse: -0.003002110301217997\n",
      "DEFAULT test mse: -0.008684585267604225\n"
     ]
    }
   ],
   "source": [
    "print(f'DEFAULT train mse: {base_results[\"train_neg_mean_squared_error\"].mean()}')\n",
    "print(f'DEFAULT test mse: {base_results[\"test_neg_mean_squared_error\"].mean()}')"
   ]
  },
  {
   "attachments": {},
   "cell_type": "markdown",
   "metadata": {},
   "source": [
    "Tuning for r2"
   ]
  },
  {
   "cell_type": "code",
   "execution_count": 26,
   "metadata": {},
   "outputs": [
    {
     "name": "stdout",
     "output_type": "stream",
     "text": [
      "TUNED params:  {'loss': 'squared_error', 'max_depth': 1, 'min_samples_leaf': 10, 'min_samples_split': 3}\n",
      "TUNED train mse: 0.5214980993600703\n",
      "TUNED test mse: 0.4916581681465758\n",
      "\n",
      "DEFAULT parameters:  {'alpha': 0.9, 'ccp_alpha': 0.0, 'criterion': 'friedman_mse', 'init': None, 'learning_rate': 0.1, 'loss': 'squared_error', 'max_depth': 3, 'max_features': None, 'max_leaf_nodes': None, 'min_impurity_decrease': 0.0, 'min_samples_leaf': 1, 'min_samples_split': 2, 'min_weight_fraction_leaf': 0.0, 'n_estimators': 100, 'n_iter_no_change': None, 'random_state': None, 'subsample': 1.0, 'tol': 0.0001, 'validation_fraction': 0.1, 'verbose': 0, 'warm_start': False}\n",
      "DEFAULT train r2: 0.7639052470119235\n",
      "DEFAULT test r2: 0.399293247653757\n"
     ]
    }
   ],
   "source": [
    "tuned_model = GridSearchCV(GradientBoostingRegressor(), param_grid=param_grid, scoring='r2', cv=cv_split, return_train_score=True)\n",
    "tuned_model.fit(X, y)\n",
    "\n",
    "print('TUNED params: ', tuned_model.best_params_)\n",
    "print(f'TUNED train r2: {tuned_model.cv_results_[\"mean_train_score\"][tuned_model.best_index_]}')\n",
    "print(f'TUNED test r2: {tuned_model.cv_results_[\"mean_test_score\"][tuned_model.best_index_]}')\n",
    "print(\"\")\n",
    "print('DEFAULT parameters: ', model.get_params())\n",
    "print(f'DEFAULT train r2: {base_results[\"train_r2\"].mean()}')\n",
    "print(f'DEFAULT test r2: {base_results[\"test_r2\"].mean()}')"
   ]
  }
 ],
 "metadata": {
  "kernelspec": {
   "display_name": "Python 3.10.8 ('ds-env')",
   "language": "python",
   "name": "python3"
  },
  "language_info": {
   "codemirror_mode": {
    "name": "ipython",
    "version": 3
   },
   "file_extension": ".py",
   "mimetype": "text/x-python",
   "name": "python",
   "nbconvert_exporter": "python",
   "pygments_lexer": "ipython3",
   "version": "3.10.8"
  },
  "orig_nbformat": 4,
  "vscode": {
   "interpreter": {
    "hash": "528eaf8525cf343a920c15b29059300b3605b13ef357b40927062a8441ce532e"
   }
  }
 },
 "nbformat": 4,
 "nbformat_minor": 2
}
